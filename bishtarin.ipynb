{
 "cells": [
  {
   "cell_type": "code",
   "execution_count": 1,
   "metadata": {},
   "outputs": [
    {
     "name": "stdout",
     "output_type": "stream",
     "text": [
      "Enter a number:2\n"
     ]
    }
   ],
   "source": [
    "n=int(input(\"Enter a number:\"))"
   ]
  },
  {
   "cell_type": "code",
   "execution_count": 2,
   "metadata": {},
   "outputs": [],
   "source": [
    "max1=-1\n",
    "max2=-1\n",
    "id1=-1\n",
    "id2=-1"
   ]
  },
  {
   "cell_type": "code",
   "execution_count": 3,
   "metadata": {},
   "outputs": [
    {
     "name": "stdout",
     "output_type": "stream",
     "text": [
      "Enter a id:1\n",
      "Enter h:120000000000000000000000000000000000000\n",
      "-1\n",
      "-1\n",
      "120000000000000000000000000000000000000\n",
      "Enter a id:2\n",
      "Enter h:220000\n",
      "bishtarin hoghoogh  120000000000000000000000000000000000000\n"
     ]
    }
   ],
   "source": [
    "for i in range(1,n+1):\n",
    "    id=int(input(\"Enter a id:\"))\n",
    "    h=int(input(\"Enter h:\"))\n",
    "    if h>max1:\n",
    "        max2=max1\n",
    "        max1=h\n",
    "print(\"bishtarin hoghoogh \",max1) \n",
    "\n",
    "\n",
    "    "
   ]
  },
  {
   "cell_type": "code",
   "execution_count": null,
   "metadata": {},
   "outputs": [],
   "source": []
  }
 ],
 "metadata": {
  "kernelspec": {
   "display_name": "Python 3",
   "language": "python",
   "name": "python3"
  },
  "language_info": {
   "codemirror_mode": {
    "name": "ipython",
    "version": 3
   },
   "file_extension": ".py",
   "mimetype": "text/x-python",
   "name": "python",
   "nbconvert_exporter": "python",
   "pygments_lexer": "ipython3",
   "version": "3.6.13"
  }
 },
 "nbformat": 4,
 "nbformat_minor": 2
}
